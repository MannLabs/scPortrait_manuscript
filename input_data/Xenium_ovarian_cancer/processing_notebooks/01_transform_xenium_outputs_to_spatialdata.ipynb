{
 "cells": [
  {
   "cell_type": "markdown",
   "id": "735f46bc",
   "metadata": {},
   "source": [
    "# Transform Xenium outputs to spatialdata object for subsequent loading to scportrait"
   ]
  },
  {
   "cell_type": "code",
   "execution_count": null,
   "id": "097a870e",
   "metadata": {},
   "outputs": [
    {
     "name": "stderr",
     "output_type": "stream",
     "text": [
      "/Users/sophia/mambaforge/envs/scportrait/lib/python3.11/site-packages/dask/dataframe/__init__.py:31: FutureWarning: The legacy Dask DataFrame implementation is deprecated and will be removed in a future version. Set the configuration option `dataframe.query-planning` to `True` or None to enable the new Dask Dataframe implementation and silence this warning.\n",
      "  warnings.warn(\n",
      "/Users/sophia/mambaforge/envs/scportrait/lib/python3.11/site-packages/xarray_schema/__init__.py:1: UserWarning: pkg_resources is deprecated as an API. See https://setuptools.pypa.io/en/latest/pkg_resources.html. The pkg_resources package is slated for removal as early as 2025-11-30. Refrain from using this package or pin to Setuptools<81.\n",
      "  from pkg_resources import DistributionNotFound, get_distribution\n",
      "/Users/sophia/mambaforge/envs/scportrait/lib/python3.11/site-packages/anndata/utils.py:434: FutureWarning: Importing read_text from `anndata` is deprecated. Import anndata.io.read_text instead.\n",
      "  warnings.warn(msg, FutureWarning)\n"
     ]
    }
   ],
   "source": [
    "from spatialdata_io import xenium # note this requires version 0.2.0! 0.3.0 does not work!\n",
    "import scportrait"
   ]
  },
  {
   "cell_type": "code",
   "execution_count": 2,
   "id": "1f0360c0",
   "metadata": {},
   "outputs": [],
   "source": [
    "input_dir = \"../raw_input_data\"\n",
    "output_file = \"../processed_data/raw_xenium.sdata.zarr\""
   ]
  },
  {
   "cell_type": "code",
   "execution_count": 3,
   "id": "36f096e3",
   "metadata": {},
   "outputs": [
    {
     "name": "stdout",
     "output_type": "stream",
     "text": [
      "\u001b[34mINFO    \u001b[0m reading ..\u001b[35m/raw_input_data/\u001b[0m\u001b[95mcell_feature_matrix.h5\u001b[0m                                                          \n",
      "\u001b[34mINFO    \u001b[0m Transposing `data` of type: \u001b[1m<\u001b[0m\u001b[1;95mclass\u001b[0m\u001b[39m \u001b[0m\u001b[32m'dask.array.core.Array'\u001b[0m\u001b[1m>\u001b[0m to \u001b[1m(\u001b[0m\u001b[32m'c'\u001b[0m, \u001b[32m'y'\u001b[0m, \u001b[32m'x'\u001b[0m\u001b[1m)\u001b[0m.                           \n"
     ]
    },
    {
     "name": "stderr",
     "output_type": "stream",
     "text": [
      "/Users/sophia/mambaforge/envs/scportrait/lib/python3.11/site-packages/tifffile/tifffile.py:8847: UserWarning: <tifffile.TiffPage 0 @16> reading array from closed file\n",
      "  warnings.warn(\n",
      "/Users/sophia/mambaforge/envs/scportrait/lib/python3.11/site-packages/tifffile/tifffile.py:8847: UserWarning: <tifffile.TiffPage 0 @16> reading array from closed file\n",
      "  warnings.warn(\n",
      "/Users/sophia/mambaforge/envs/scportrait/lib/python3.11/site-packages/tifffile/tifffile.py:8847: UserWarning: <tifffile.TiffPage 0 @16> reading array from closed file\n",
      "  warnings.warn(\n",
      "/Users/sophia/mambaforge/envs/scportrait/lib/python3.11/site-packages/tifffile/tifffile.py:8847: UserWarning: <tifffile.TiffPage 0 @16> reading array from closed file\n",
      "  warnings.warn(\n"
     ]
    }
   ],
   "source": [
    "sdata = xenium(\n",
    "    path=input_dir,\n",
    "    n_jobs=8,\n",
    "    cells_boundaries=False,\n",
    "    nucleus_boundaries=False,\n",
    "    morphology_focus=True,\n",
    "    aligned_images=True,\n",
    "    cells_as_circles = False,\n",
    "    cells_table=True,\n",
    ")"
   ]
  },
  {
   "cell_type": "code",
   "execution_count": 4,
   "id": "45c410cf",
   "metadata": {},
   "outputs": [],
   "source": [
    "# convert table index to str as this is what anndata prefers to work with\n",
    "sdata[\"table\"].obs.index = sdata[\"table\"].obs.index.astype('str')"
   ]
  },
  {
   "cell_type": "code",
   "execution_count": 5,
   "id": "40ab6344",
   "metadata": {},
   "outputs": [
    {
     "name": "stdout",
     "output_type": "stream",
     "text": [
      "\u001b[34mINFO    \u001b[0m The Zarr backing store has been changed from \u001b[3;35mNone\u001b[0m the new file path:                                      \n",
      "         ..\u001b[35m/processed_data/\u001b[0m\u001b[95mraw_xenium.sdata.zarr\u001b[0m                                                                   \n"
     ]
    }
   ],
   "source": [
    "sdata.write(output_file, overwrite = True)"
   ]
  },
  {
   "cell_type": "code",
   "execution_count": 6,
   "id": "a1b902ca",
   "metadata": {},
   "outputs": [
    {
     "name": "stderr",
     "output_type": "stream",
     "text": [
      "/Users/sophia/mambaforge/envs/scportrait/lib/python3.11/site-packages/spatialdata/_core/_elements.py:71: UserWarning: Key `he_image` already exists. Overwriting it in-memory.\n",
      "  self._check_key(key, self.keys(), self._shared_keys)\n"
     ]
    }
   ],
   "source": [
    "# convert HE image to rgb\n",
    "sdata.set_channel_names(\"he_image\", [\"r\", \"g\", \"b\"])\n",
    "sdata.write_channel_names(\"he_image\") #update the zarr store with the new channel names"
   ]
  },
  {
   "cell_type": "markdown",
   "id": "198a4c28",
   "metadata": {},
   "source": [
    "## rescale input image to 0.1 and 99.9%-tile"
   ]
  },
  {
   "cell_type": "code",
   "execution_count": 7,
   "id": "f1f4ef9c",
   "metadata": {},
   "outputs": [
    {
     "name": "stderr",
     "output_type": "stream",
     "text": [
      "version mismatch: detected: RasterFormatV02, requested: FormatV04\n",
      "version mismatch: detected: RasterFormatV02, requested: FormatV04\n",
      "version mismatch: detected: RasterFormatV02, requested: FormatV04\n"
     ]
    },
    {
     "data": {
      "text/plain": [
       "SpatialData object, with associated Zarr store: /Users/sophia/Documents/GitHub/scportrait_manuscript/input_data/Xenium_ovarian_cancer/processed_data/raw_xenium.sdata.zarr\n",
       "├── Images\n",
       "│     ├── 'he_image': DataTree[cyx] (3, 43993, 30918), (3, 21996, 15459), (3, 10998, 7729), (3, 5499, 3864), (3, 2749, 1932)\n",
       "│     ├── 'morphology_focus': DataTree[cyx] (4, 37631, 54089), (4, 18815, 27044), (4, 9407, 13522), (4, 4703, 6761), (4, 2351, 3380)\n",
       "│     └── 'morphology_focus_rescaled': DataTree[cyx] (4, 37631, 54089), (4, 18815, 27044), (4, 4703, 6761), (4, 587, 845)\n",
       "├── Labels\n",
       "│     ├── 'cell_labels': DataTree[yx] (37631, 54089), (18815, 27044), (9407, 13522), (4703, 6761), (2351, 3380)\n",
       "│     └── 'nucleus_labels': DataTree[yx] (37631, 54089), (18815, 27044), (9407, 13522), (4703, 6761), (2351, 3380)\n",
       "├── Points\n",
       "│     └── 'transcripts': DataFrame with shape: (<Delayed>, 13) (3D points)\n",
       "└── Tables\n",
       "      └── 'table': AnnData (407124, 5101)\n",
       "with coordinate systems:\n",
       "    ▸ 'global', with elements:\n",
       "        he_image (Images), morphology_focus (Images), morphology_focus_rescaled (Images), cell_labels (Labels), nucleus_labels (Labels), transcripts (Points)"
      ]
     },
     "execution_count": 7,
     "metadata": {},
     "output_type": "execute_result"
    }
   ],
   "source": [
    "scportrait.tools.sdata.pp.percentile_normalize_image(sdata, \n",
    "                                                     image_name = \"morphology_focus\",\n",
    "                                                     lower_percentile = 0.1, \n",
    "                                                     upper_percentile = 99.9, \n",
    "                                                     rescaled_image_name = \"morphology_focus_rescaled\")"
   ]
  },
  {
   "cell_type": "code",
   "execution_count": 9,
   "id": "cc6e79e6",
   "metadata": {},
   "outputs": [
    {
     "data": {
      "text/plain": [
       "AnnData object with n_obs × n_vars = 407124 × 5101\n",
       "    obs: 'cell_id', 'transcript_counts', 'control_probe_counts', 'genomic_control_counts', 'control_codeword_counts', 'unassigned_codeword_counts', 'deprecated_codeword_counts', 'total_counts', 'cell_area', 'nucleus_area', 'nucleus_count', 'segmentation_method', 'region', 'z_level', 'cell_labels'\n",
       "    var: 'gene_ids', 'feature_types', 'genome'\n",
       "    uns: 'spatialdata_attrs'\n",
       "    obsm: 'spatial'"
      ]
     },
     "execution_count": 9,
     "metadata": {},
     "output_type": "execute_result"
    }
   ],
   "source": [
    "sdata[\"table\"]"
   ]
  },
  {
   "cell_type": "code",
   "execution_count": null,
   "id": "9693aa8e",
   "metadata": {},
   "outputs": [],
   "source": []
  }
 ],
 "metadata": {
  "kernelspec": {
   "display_name": "scportrait",
   "language": "python",
   "name": "python3"
  },
  "language_info": {
   "codemirror_mode": {
    "name": "ipython",
    "version": 3
   },
   "file_extension": ".py",
   "mimetype": "text/x-python",
   "name": "python",
   "nbconvert_exporter": "python",
   "pygments_lexer": "ipython3",
   "version": "3.11.0"
  }
 },
 "nbformat": 4,
 "nbformat_minor": 5
}
