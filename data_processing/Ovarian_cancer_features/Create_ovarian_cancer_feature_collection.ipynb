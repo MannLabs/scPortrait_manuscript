{
 "cells": [
  {
   "cell_type": "markdown",
   "id": "9213d49e-ad39-45e3-9050-7d36fcfa9e12",
   "metadata": {},
   "source": [
    "# Create datasets based on full Xenium data"
   ]
  },
  {
   "cell_type": "markdown",
   "id": "e3895c84-64dd-4821-bd7d-0ebb7fe7a60a",
   "metadata": {},
   "source": [
    "Use all >400k cells in Xenium ovarian cancer dataset for SCimilarity embeddings"
   ]
  },
  {
   "cell_type": "code",
   "execution_count": null,
   "id": "73c5df88-7a23-440d-87f0-3d5295aec474",
   "metadata": {},
   "outputs": [
    {
     "name": "stderr",
     "output_type": "stream",
     "text": [
      "/fs/home/schmacke/miniforge3/envs/scanpy_scimilarity/lib/python3.11/site-packages/tqdm/auto.py:21: TqdmWarning: IProgress not found. Please update jupyter and ipywidgets. See https://ipywidgets.readthedocs.io/en/stable/user_install.html\n",
      "  from .autonotebook import tqdm as notebook_tqdm\n"
     ]
    }
   ],
   "source": [
    "import numpy as np\n",
    "import anndata as ad\n",
    "import scanpy as sc\n",
    "import matplotlib.pyplot as plt\n",
    "import seaborn as sns\n",
    "import pandas as pd\n",
    "from sklearn.metrics import r2_score\n",
    "import torch\n",
    "from torch.utils.data import random_split, DataLoader\n",
    "\n",
    "from scimilarity.utils import align_dataset, lognorm_counts\n",
    "from scimilarity.cell_embedding import CellEmbedding\n",
    "from scimilarity import CellAnnotation\n",
    "from scimilarity import CellQuery\n",
    "\n",
    "from tqdm.auto import tqdm\n",
    "\n",
    "import sys\n",
    "sys.path.append(\"../data_processing/SCimilarity/training_mlp/model_archs\")\n",
    "import mlp_img_embed_to_scimilarity"
   ]
  },
  {
   "cell_type": "code",
   "execution_count": null,
   "id": "c8ed17b7-7fde-4c96-9cdf-9fc420d2da04",
   "metadata": {},
   "outputs": [],
   "source": [
    "scimilarity_model_path = '../SCimilarity/models/'\n",
    "out_dir = '../../input_data/'\n",
    "data_dir = \n",
    "sdata_path = "
   ]
  },
  {
   "cell_type": "code",
   "execution_count": 4,
   "id": "ed003a2a-73af-4ba0-b037-802b3c9cc826",
   "metadata": {},
   "outputs": [],
   "source": [
    "# Initialize SCimilarity classes\n",
    "ca = CellAnnotation(model_path=f\"{scimilarity_model_path}model_v1.1\")\n",
    "ce = CellEmbedding(model_path=f\"{scimilarity_model_path}model_v1.1\")\n",
    "# cq = CellQuery(model_path=f\"{scimilarity_model_path}model_v1.1\")"
   ]
  },
  {
   "cell_type": "code",
   "execution_count": 5,
   "id": "13fb5e17-53de-4e19-91f5-c80a6469513b",
   "metadata": {},
   "outputs": [],
   "source": [
    "ovary_cell_types = ['B Cell', 'T Cell', 'macrophage', 'monocyte', 'epithelial cell', 'fibroblast', 'endothelial cell', 'dendritic cell', 'stromal cell of ovary', 'leukocyte', 'mast cell', 'myofibroblast cell', 'smooth muscle cell']"
   ]
  },
  {
   "cell_type": "code",
   "execution_count": 6,
   "id": "16ebbe5d-8a89-40df-82be-cc20f255a4ff",
   "metadata": {},
   "outputs": [],
   "source": [
    "ca.safelist_celltypes(ovary_cell_types)"
   ]
  },
  {
   "cell_type": "markdown",
   "id": "804ed07a-0c79-4407-82f5-33ee0f9ec875",
   "metadata": {},
   "source": [
    "## Load Transcriptome"
   ]
  },
  {
   "cell_type": "code",
   "execution_count": 7,
   "id": "c8b16597-c1bd-4818-8077-5117c97782cb",
   "metadata": {},
   "outputs": [
    {
     "name": "stderr",
     "output_type": "stream",
     "text": [
      "/fs/home/schmacke/miniforge3/envs/scanpy_scimilarity/lib/python3.11/site-packages/anndata/_core/aligned_df.py:68: ImplicitModificationWarning: Transforming to str index.\n",
      "  warnings.warn(\"Transforming to str index.\", ImplicitModificationWarning)\n"
     ]
    }
   ],
   "source": [
    "full_dataset = ad.read_zarr(f'{sdata_path}tables/table')"
   ]
  },
  {
   "cell_type": "code",
   "execution_count": 8,
   "id": "476ab023-edb0-490f-8579-49b25ee1a389",
   "metadata": {},
   "outputs": [
    {
     "data": {
      "text/plain": [
       "AnnData object with n_obs × n_vars = 407124 × 5101\n",
       "    obs: 'cell_id', 'transcript_counts', 'control_probe_counts', 'genomic_control_counts', 'control_codeword_counts', 'unassigned_codeword_counts', 'deprecated_codeword_counts', 'total_counts', 'cell_area', 'nucleus_area', 'nucleus_count', 'segmentation_method', 'region', 'z_level', 'cell_labels', 'cell_type', 'is_tumor_cell_type'\n",
       "    var: 'gene_ids', 'feature_types', 'genome'\n",
       "    uns: 'spatialdata_attrs'\n",
       "    obsm: 'spatial'"
      ]
     },
     "execution_count": 8,
     "metadata": {},
     "output_type": "execute_result"
    }
   ],
   "source": [
    "full_dataset"
   ]
  },
  {
   "cell_type": "markdown",
   "id": "bc573ef6-b280-4027-8da4-2a12f8b4939f",
   "metadata": {},
   "source": [
    "## Filter Transcriptome"
   ]
  },
  {
   "cell_type": "code",
   "execution_count": 18,
   "id": "18227f88-3636-422b-8e98-54ab1c7eabe6",
   "metadata": {},
   "outputs": [
    {
     "name": "stderr",
     "output_type": "stream",
     "text": [
      "/fs/home/schmacke/miniforge3/envs/scanpy_scimilarity/lib/python3.11/site-packages/anndata/_core/aligned_df.py:68: ImplicitModificationWarning: Transforming to str index.\n",
      "  warnings.warn(\"Transforming to str index.\", ImplicitModificationWarning)\n"
     ]
    }
   ],
   "source": [
    "raw = full_dataset.copy()\n",
    "sc.pp.filter_genes(\n",
    "    raw,\n",
    "    # min_cells=5,\n",
    "    min_counts=2000,\n",
    "    # inplace=False,\n",
    ")\n",
    "sc.pp.filter_genes(\n",
    "    raw,\n",
    "    min_cells=1000,\n",
    "    # min_counts=10,\n",
    "    # inplace=False,\n",
    ")\n",
    "sc.pp.filter_cells(\n",
    "    raw,\n",
    "    min_counts=200,\n",
    ")\n",
    "sc.pp.filter_cells(\n",
    "    raw,\n",
    "    min_genes=100,\n",
    ")"
   ]
  },
  {
   "cell_type": "code",
   "execution_count": 19,
   "id": "342e47d4-585e-442f-9f61-fac8a91d4592",
   "metadata": {},
   "outputs": [],
   "source": [
    "full_dataset.obs['transcriptome_passed_QC'] = full_dataset.obs['cell_id'].isin(raw.obs['cell_id'])\n",
    "full_dataset.var['gene_passed_QC'] = full_dataset.var['gene_ids'].isin(raw.var['gene_ids'])"
   ]
  },
  {
   "cell_type": "markdown",
   "id": "19dfcde8-12ea-428b-b226-0f76f6487209",
   "metadata": {},
   "source": [
    "## Load 10X cell type annotation"
   ]
  },
  {
   "cell_type": "code",
   "execution_count": 11,
   "id": "1dfed762-7909-46c6-8ef6-578a94777f87",
   "metadata": {},
   "outputs": [],
   "source": [
    "cell_types = pd.read_csv(f'{data_dir}Xenium_Prime_Ovarian_Cancer_FFPE_XRrun_cell_groups.csv')\n",
    "cell_types.rename(columns={'group': '10X_cell_type', 'cell_id': 'cell_id_tmp'}, inplace=True)"
   ]
  },
  {
   "cell_type": "code",
   "execution_count": 12,
   "id": "14bf3ea7-aa3f-49b5-9ef0-4099ae53c515",
   "metadata": {},
   "outputs": [],
   "source": [
    "merged_obs = full_dataset.obs.merge(\n",
    "    cell_types,\n",
    "    left_on='cell_id',\n",
    "    right_on='cell_id_tmp',\n",
    "    how='left',\n",
    ")\n",
    "merged_obs.drop(columns='cell_id_tmp', inplace=True)\n",
    "full_dataset.obs = merged_obs"
   ]
  },
  {
   "cell_type": "code",
   "execution_count": 21,
   "id": "0ee4ecca-3bc0-4d35-8479-0abc62f34183",
   "metadata": {},
   "outputs": [],
   "source": [
    "full_dataset.obs['is_ovary_cell_type'] = full_dataset.obs['10X_cell_type'].isin(ovary_cell_types)"
   ]
  },
  {
   "cell_type": "markdown",
   "id": "ee7e74cf-1a0f-4022-8312-6530455b027f",
   "metadata": {},
   "source": [
    "## Load ViT-MAE Xenium finetuned image embeddings"
   ]
  },
  {
   "cell_type": "code",
   "execution_count": null,
   "id": "8bec5ab9-5024-44f0-bdc2-025fa37012eb",
   "metadata": {},
   "outputs": [],
   "source": [
    "image_dir_train = '../input_data/ViTMAE_training_ovarian_cancer/xenium_vitmae_train_features.h5ad'\n",
    "image_dir_val = '../input_data/ViTMAE_training_ovarian_cancer/xenium_vitmae_val_features.h5ad'\n",
    "image_dir_test = '../input_data/ViTMAE_training_ovarian_cancer/xenium_vitmae_test_features.h5ad'"
   ]
  },
  {
   "cell_type": "code",
   "execution_count": 23,
   "id": "cb7f0471-fd54-4bba-89e1-aac8c6b56890",
   "metadata": {},
   "outputs": [
    {
     "name": "stderr",
     "output_type": "stream",
     "text": [
      "/fs/home/schmacke/miniforge3/envs/scanpy_scimilarity/lib/python3.11/site-packages/anndata/_core/anndata.py:1756: UserWarning: Observation names are not unique. To make them unique, call `.obs_names_make_unique`.\n",
      "  utils.warn_names_duplicates(\"obs\")\n"
     ]
    }
   ],
   "source": [
    "image_embeds = ad.concat([\n",
    "    ad.read_h5ad(image_dir_train),\n",
    "    ad.read_h5ad(image_dir_val),\n",
    "    ad.read_h5ad(image_dir_test),\n",
    "])"
   ]
  },
  {
   "cell_type": "code",
   "execution_count": 24,
   "id": "5261f74a-0824-47fb-97c9-eeb79d18d92c",
   "metadata": {},
   "outputs": [
    {
     "data": {
      "text/plain": [
       "AnnData object with n_obs × n_vars = 406875 × 768\n",
       "    obs: 'targets', 'cell_ids', 'leiden_res0_25'\n",
       "    obsm: 'X_pca', 'X_umap'"
      ]
     },
     "execution_count": 24,
     "metadata": {},
     "output_type": "execute_result"
    }
   ],
   "source": [
    "image_embeds"
   ]
  },
  {
   "cell_type": "code",
   "execution_count": 25,
   "id": "233018a8-50d8-4059-8a19-c9aabc480dbe",
   "metadata": {},
   "outputs": [
    {
     "data": {
      "text/plain": [
       "AnnData object with n_obs × n_vars = 407124 × 5101\n",
       "    obs: 'cell_id', 'transcript_counts', 'control_probe_counts', 'genomic_control_counts', 'control_codeword_counts', 'unassigned_codeword_counts', 'deprecated_codeword_counts', 'total_counts', 'cell_area', 'nucleus_area', 'nucleus_count', 'segmentation_method', 'region', 'z_level', 'cell_labels', 'cell_type', 'is_tumor_cell_type', '10X_cell_type', 'transcriptome_passed_QC', 'is_ovary_cell_type'\n",
       "    var: 'gene_ids', 'feature_types', 'genome', 'gene_passed_QC'\n",
       "    uns: 'spatialdata_attrs'\n",
       "    obsm: 'spatial'"
      ]
     },
     "execution_count": 25,
     "metadata": {},
     "output_type": "execute_result"
    }
   ],
   "source": [
    "full_dataset"
   ]
  },
  {
   "cell_type": "code",
   "execution_count": 26,
   "id": "f725420a-dc9c-4ddd-841f-7474741bba88",
   "metadata": {},
   "outputs": [],
   "source": [
    "image_cell_ids = image_embeds.obs['cell_ids']"
   ]
  },
  {
   "cell_type": "code",
   "execution_count": 27,
   "id": "dfad9ca1-57b6-43a3-aa47-ee6f6a69e5ce",
   "metadata": {},
   "outputs": [
    {
     "name": "stdout",
     "output_type": "stream",
     "text": [
      "Intersection count: 406875\n",
      "Intersection ratio: 0.9993883927255578\n",
      "Intersection difference: -249\n"
     ]
    }
   ],
   "source": [
    "## Some cells were missing from the image h5 file, likely edge cells that could not be extracted\n",
    "intersection = set(full_dataset.obs['cell_labels']) & set(image_cell_ids)\n",
    "intersection_count = len(intersection)\n",
    "intersection_ratio = len(intersection)/len(full_dataset.obs['cell_labels'])\n",
    "intersection_diff = len(intersection) - len(full_dataset.obs['cell_labels'])\n",
    "\n",
    "print(\"Intersection count:\", intersection_count)\n",
    "print(\"Intersection ratio:\", intersection_ratio)\n",
    "print(\"Intersection difference:\", intersection_diff)\n",
    "\n",
    "common_cell_ids = list(intersection)"
   ]
  },
  {
   "cell_type": "code",
   "execution_count": null,
   "id": "90751616-0a54-469c-96f5-a8bc025af6d9",
   "metadata": {},
   "outputs": [],
   "source": [
    "# intersection does not preserve order\n",
    "common_cell_ids_set = set(common_cell_ids)\n",
    "subset_cell_ids = [x for x in image_cell_ids if x in common_cell_ids_set]"
   ]
  },
  {
   "cell_type": "code",
   "execution_count": null,
   "id": "728d9fd6-b325-45d3-b97d-5ad536d9c8df",
   "metadata": {},
   "outputs": [
    {
     "name": "stderr",
     "output_type": "stream",
     "text": [
      "/fs/home/schmacke/miniforge3/envs/scanpy_scimilarity/lib/python3.11/site-packages/anndata/_core/aligned_df.py:68: ImplicitModificationWarning: Transforming to str index.\n",
      "  warnings.warn(\"Transforming to str index.\", ImplicitModificationWarning)\n"
     ]
    }
   ],
   "source": [
    "# Filter Transcriptome to image data, ViT-MAE data are missing a few cells, likely edge cells that could not be extracted\n",
    "full_dataset = full_dataset[full_dataset.obs['cell_labels'].isin(common_cell_ids)].copy()"
   ]
  },
  {
   "cell_type": "code",
   "execution_count": 30,
   "id": "6fb1f953-d33f-4e72-be29-c38e2ed80524",
   "metadata": {},
   "outputs": [
    {
     "data": {
      "text/plain": [
       "AnnData object with n_obs × n_vars = 406875 × 5101\n",
       "    obs: 'cell_id', 'transcript_counts', 'control_probe_counts', 'genomic_control_counts', 'control_codeword_counts', 'unassigned_codeword_counts', 'deprecated_codeword_counts', 'total_counts', 'cell_area', 'nucleus_area', 'nucleus_count', 'segmentation_method', 'region', 'z_level', 'cell_labels', 'cell_type', 'is_tumor_cell_type', '10X_cell_type', 'transcriptome_passed_QC', 'is_ovary_cell_type'\n",
       "    var: 'gene_ids', 'feature_types', 'genome', 'gene_passed_QC'\n",
       "    uns: 'spatialdata_attrs'\n",
       "    obsm: 'spatial'"
      ]
     },
     "execution_count": 30,
     "metadata": {},
     "output_type": "execute_result"
    }
   ],
   "source": [
    "full_dataset"
   ]
  },
  {
   "cell_type": "code",
   "execution_count": 31,
   "id": "0144deab-0b21-4bb8-b964-61839220f602",
   "metadata": {},
   "outputs": [],
   "source": [
    "index_map = {cell_id: i for i, cell_id in enumerate(subset_cell_ids)}\n",
    "adata_indices = [index_map[cell_id] for cell_id in full_dataset.obs[\"cell_labels\"]]"
   ]
  },
  {
   "cell_type": "code",
   "execution_count": 32,
   "id": "2b59c2a3-4088-4e23-b3b2-59c32ea60a81",
   "metadata": {},
   "outputs": [],
   "source": [
    "full_dataset.obsm['X_vitmae_finetuned_img_features'] = image_embeds.X[adata_indices]"
   ]
  },
  {
   "cell_type": "markdown",
   "id": "47c7c146-e59e-4ae2-b48d-497632fdd98a",
   "metadata": {},
   "source": [
    "### Scale embeddings to [0,1] per row"
   ]
  },
  {
   "cell_type": "code",
   "execution_count": 34,
   "id": "648a8528-51ec-403a-985d-ad34a1578a7e",
   "metadata": {},
   "outputs": [],
   "source": [
    "row_mins = full_dataset.obsm['X_vitmae_finetuned_img_features'].min(axis=1, keepdims=True)\n",
    "row_maxs = full_dataset.obsm['X_vitmae_finetuned_img_features'].max(axis=1, keepdims=True)\n",
    "scaled_img_features = (full_dataset.obsm['X_vitmae_finetuned_img_features'] - row_mins) / (\n",
    "    row_maxs - row_mins\n",
    ")\n",
    "full_dataset.obsm['X_vitmae_finetuned_img_features_minmax'] = scaled_img_features"
   ]
  },
  {
   "cell_type": "markdown",
   "id": "cd84de59-7260-4840-ba33-4441603327ea",
   "metadata": {},
   "source": [
    "### Get ViT-MAE test set"
   ]
  },
  {
   "cell_type": "code",
   "execution_count": 35,
   "id": "916869b2-5eab-4a8e-827b-370fe1b500a5",
   "metadata": {},
   "outputs": [],
   "source": [
    "test_set = ad.read_h5ad(image_dir_test)"
   ]
  },
  {
   "cell_type": "code",
   "execution_count": 36,
   "id": "8706dd9e-29f4-4151-8e65-2a448936c6d2",
   "metadata": {},
   "outputs": [],
   "source": [
    "full_dataset.obs['is_in_vitmae_test_set'] = full_dataset.obs['cell_labels'].isin(test_set.obs['cell_ids'])"
   ]
  },
  {
   "cell_type": "markdown",
   "id": "18e2292a-e0bf-4d17-a3f5-41820df0d84c",
   "metadata": {},
   "source": [
    "## Get SCimilarity for Transcriptome"
   ]
  },
  {
   "cell_type": "markdown",
   "id": "2bf5f64c-859c-4e71-af93-f77a935ed215",
   "metadata": {},
   "source": [
    "Since these are not stochastically sampled counts as in dissociated transcriptomics, but probe-based spatial transcriptomics data, we are not log1p normalizing them."
   ]
  },
  {
   "cell_type": "code",
   "execution_count": 48,
   "id": "8acf82ad-8924-4f4d-8064-836c5f4bb30e",
   "metadata": {},
   "outputs": [],
   "source": [
    "norm = full_dataset.copy()\n",
    "sc.pp.normalize_total(norm, target_sum=1e4)\n",
    "aligned = align_dataset(norm, ce.gene_order, gene_overlap_threshold=1000)\n",
    "embeddings = ce.get_embeddings(aligned.X)"
   ]
  },
  {
   "cell_type": "code",
   "execution_count": 49,
   "id": "5e451914-38b8-4176-bb69-8e93b2f64a6a",
   "metadata": {},
   "outputs": [],
   "source": [
    "full_dataset.obsm['X_SCimilarity_transcriptome_embeds'] = embeddings"
   ]
  },
  {
   "cell_type": "markdown",
   "id": "74fdb1fc-a7da-4de8-8600-6819e6688290",
   "metadata": {},
   "source": [
    "### Get SCimilarity cell types"
   ]
  },
  {
   "cell_type": "code",
   "execution_count": 52,
   "id": "b0232175-0e02-42d3-ab30-b12f28f269c0",
   "metadata": {},
   "outputs": [
    {
     "name": "stdout",
     "output_type": "stream",
     "text": [
      "Get nearest neighbors finished in: 1.5862017671267192 min\n"
     ]
    },
    {
     "name": "stderr",
     "output_type": "stream",
     "text": [
      "100%|██████████| 406875/406875 [00:27<00:00, 14690.24it/s]\n"
     ]
    }
   ],
   "source": [
    "predictions, nn_idxs, nn_dists, stats = ca.get_predictions_knn(\n",
    "    full_dataset.obsm['X_SCimilarity_transcriptome_embeds'],\n",
    "    weighting=True,\n",
    ")\n",
    "full_dataset.obs['SCimilarity_transcriptome_cell_type'] = predictions.to_numpy()\n",
    "full_dataset.obs['SCimilarity_transcriptome_min_dist'] = stats['min_dist'].to_numpy()"
   ]
  },
  {
   "cell_type": "markdown",
   "id": "27002021-522d-4b87-ba74-0256e6b6df80",
   "metadata": {},
   "source": [
    "## Save for Training SCimilarity-to-ViT-MAE prediction"
   ]
  },
  {
   "cell_type": "code",
   "execution_count": 56,
   "id": "c2ae357d-1829-4580-8666-438c9add8ca6",
   "metadata": {},
   "outputs": [],
   "source": [
    "full_dataset.write_h5ad(f'{out_dir}xenium_ovarian_cancer_vitmae_feats.h5ad')"
   ]
  },
  {
   "cell_type": "markdown",
   "id": "a20957a4-2d73-4513-abe1-9fbf9f2b71a3",
   "metadata": {},
   "source": [
    "## Predict SCimilarity from ViT-MAE image embeddings"
   ]
  },
  {
   "cell_type": "markdown",
   "id": "1da975e2-4e55-4bc6-9b66-900f5001e678",
   "metadata": {},
   "source": [
    "Trained On All Cells Normalized to 10k Counts per Cell"
   ]
  },
  {
   "cell_type": "code",
   "execution_count": null,
   "id": "9b130845-a4d6-41bc-bc1a-bc902384b7fc",
   "metadata": {},
   "outputs": [],
   "source": [
    "epoch_to_load = 2342\n",
    "scalers_dir = \"/fs/gpfs41/lv03/fileset01/pool/pool-mann-maedler-shared/niklas_workspace/scPortrait_vit_250726/SCimilarity/training_mlp/checkpoints/predict_scim_v1_1/scaled_norm10k/all_cells/\"\n",
    "ckpt_path = f\"/fs/gpfs41/lv03/fileset01/pool/pool-mann-maedler-shared/niklas_workspace/scPortrait_vit_250726/SCimilarity/training_mlp/checkpoints/predict_scim_v1_1/scaled_norm10k/all_cells/ColNorm-epoch={epoch_to_load}-end.ckpt\""
   ]
  },
  {
   "cell_type": "code",
   "execution_count": 61,
   "id": "a7350524-aafd-44ee-8c40-260626de01e2",
   "metadata": {},
   "outputs": [
    {
     "data": {
      "text/plain": [
       "Sequential(\n",
       "  (0): Linear(in_features=768, out_features=512, bias=True)\n",
       "  (1): ReLU()\n",
       "  (2): Linear(in_features=512, out_features=512, bias=True)\n",
       "  (3): ReLU()\n",
       "  (4): Linear(in_features=512, out_features=256, bias=True)\n",
       "  (5): ReLU()\n",
       "  (6): Linear(in_features=256, out_features=128, bias=True)\n",
       "  (7): ReLU()\n",
       "  (8): Linear(in_features=128, out_features=128, bias=True)\n",
       ")"
      ]
     },
     "execution_count": 61,
     "metadata": {},
     "output_type": "execute_result"
    }
   ],
   "source": [
    "device='cuda:1'\n",
    "model = mlp_img_embed_to_scimilarity.get_mlp(output_size=128)\n",
    "checkpoint = torch.load(ckpt_path, weights_only=False)\n",
    "# remove 'model.' in state dict\n",
    "pruned_state_dict = {}\n",
    "for key in checkpoint['state_dict']:\n",
    "    new_key = key[6:]\n",
    "    pruned_state_dict[new_key] = checkpoint['state_dict'][key]\n",
    "model.load_state_dict(pruned_state_dict)\n",
    "model.eval()\n",
    "model.to(device)"
   ]
  },
  {
   "cell_type": "code",
   "execution_count": 62,
   "id": "8776c06d-3a3d-486c-9e19-f5be1f13b6c3",
   "metadata": {},
   "outputs": [],
   "source": [
    "means = np.load(f\"{scalers_dir}means.npy\")\n",
    "stds = np.load(f\"{scalers_dir}stds.npy\")"
   ]
  },
  {
   "cell_type": "code",
   "execution_count": 63,
   "id": "d8f1f7fc-19f5-4912-b3ac-c2e8c3425f1f",
   "metadata": {},
   "outputs": [],
   "source": [
    "# Use row-normalized img features\n",
    "img_features = full_dataset.obsm['X_vitmae_finetuned_img_features_minmax']\n",
    "scim_embeds = full_dataset.obsm['X_SCimilarity_transcriptome_embeds']\n",
    "scim_embeds, _, _ = mlp_img_embed_to_scimilarity.scale(scim_embeds, means, stds)\n",
    "ids = full_dataset.obs['cell_labels']\n",
    "\n",
    "dataset = mlp_img_embed_to_scimilarity.Embeddings_transcripts_dataset_ids(img_features, scim_embeds, ids)"
   ]
  },
  {
   "cell_type": "code",
   "execution_count": null,
   "id": "ae5dc8bf-f939-48e0-b914-8afed5c0b553",
   "metadata": {},
   "outputs": [
    {
     "name": "stderr",
     "output_type": "stream",
     "text": [
      "/fs/home/schmacke/miniforge3/envs/scanpy_scimilarity/lib/python3.11/site-packages/torch/utils/data/dataset.py:473: UserWarning: Length of split at index 0 is 0. This might result in an empty dataset.\n",
      "  warnings.warn(\n",
      "/fs/home/schmacke/miniforge3/envs/scanpy_scimilarity/lib/python3.11/site-packages/torch/utils/data/dataset.py:473: UserWarning: Length of split at index 1 is 0. This might result in an empty dataset.\n",
      "  warnings.warn(\n"
     ]
    }
   ],
   "source": [
    "torch.manual_seed(920924)\n",
    "num_samples = len(dataset)\n",
    "train_size = 0\n",
    "val_size = 0\n",
    "test_size = 1\n",
    "train_dataset, val_dataset, test_dataset = random_split(dataset, [train_size, val_size, test_size])\n",
    "test_loader = DataLoader(test_dataset, batch_size=2048, num_workers=0, shuffle=False)"
   ]
  },
  {
   "cell_type": "code",
   "execution_count": 65,
   "id": "2fdc69e4-6cee-43ba-8ae7-48c76a546adf",
   "metadata": {},
   "outputs": [
    {
     "name": "stderr",
     "output_type": "stream",
     "text": [
      "  0%|          | 0/199 [00:00<?, ?it/s]/fs/gpfs41/lv03/fileset01/pool/pool-mann-maedler-shared/niklas_workspace/lamin_xenium/SCimilarity/training_mlp/model_archs/mlp_img_embed_to_scimilarity.py:58: FutureWarning: Series.__getitem__ treating keys as positions is deprecated. In a future version, integer keys will always be treated as labels (consistent with DataFrame behavior). To access a value by position, use `ser.iloc[pos]`\n",
      "  return self.embeddings[idx], self.gene_expressions[idx], self.ids[idx]\n",
      "100%|██████████| 199/199 [00:08<00:00, 24.38it/s]\n"
     ]
    }
   ],
   "source": [
    "img_reprs = []\n",
    "preds = []\n",
    "origs = []\n",
    "ids = []\n",
    "with torch.no_grad():\n",
    "    for batch in tqdm(iter(test_loader)):\n",
    "        img_feats = batch[0].to(device)\n",
    "        img_reprs.append(img_feats.detach().cpu().numpy())\n",
    "        pred = model(img_feats)\n",
    "        preds.append(pred.detach().cpu().numpy())\n",
    "        origs.append(batch[1].detach().cpu().numpy())\n",
    "        ids.append(batch[2].detach().cpu().numpy())\n",
    "\n",
    "np.random.seed(920924)\n",
    "shuffled_indices = np.random.permutation(len(row_mins))\n",
    "row_mins_shuffled = row_mins[shuffled_indices]\n",
    "row_maxs_shuffled = row_maxs[shuffled_indices]\n",
    "\n",
    "img_reprs_scaled = np.concatenate(img_reprs)\n",
    "img_reprs = mlp_img_embed_to_scimilarity.undo_row_norm(np.concatenate(img_reprs), row_mins_shuffled, row_maxs_shuffled)\n",
    "origs = np.concatenate(origs)\n",
    "origs = mlp_img_embed_to_scimilarity.undo_standard_scaling(\n",
    "    origs,\n",
    "    means=means,\n",
    "    stds=stds,\n",
    ")\n",
    "preds = np.concatenate(preds)\n",
    "preds = mlp_img_embed_to_scimilarity.undo_standard_scaling(\n",
    "    preds,\n",
    "    means=means,\n",
    "    stds=stds,\n",
    ")\n",
    "ids = np.concatenate(ids)"
   ]
  },
  {
   "cell_type": "code",
   "execution_count": 66,
   "id": "a05e7c61-536b-4e1d-9aef-6c106b5c0547",
   "metadata": {},
   "outputs": [],
   "source": [
    "index_map = {cell_id: i for i, cell_id in enumerate(ids)}\n",
    "adata_indices = [index_map[cell_id] for cell_id in full_dataset.obs[\"cell_labels\"]]"
   ]
  },
  {
   "cell_type": "code",
   "execution_count": 67,
   "id": "89b838f0-3501-42e3-a1c8-182e9dd48337",
   "metadata": {},
   "outputs": [],
   "source": [
    "full_dataset.obsm['X_SCimilarity_image_embeds'] = preds[adata_indices]"
   ]
  },
  {
   "cell_type": "markdown",
   "id": "3e5c89cf-56d2-4e45-850c-0c8fefb9a00a",
   "metadata": {},
   "source": [
    "### Get SCimilarity cell types"
   ]
  },
  {
   "cell_type": "code",
   "execution_count": 68,
   "id": "41bafec4-dea4-4df4-95df-ed9d2167d4bb",
   "metadata": {},
   "outputs": [
    {
     "name": "stdout",
     "output_type": "stream",
     "text": [
      "Get nearest neighbors finished in: 0.058790818850199385 min\n"
     ]
    },
    {
     "name": "stderr",
     "output_type": "stream",
     "text": [
      "100%|██████████| 406875/406875 [00:25<00:00, 16105.43it/s]\n"
     ]
    }
   ],
   "source": [
    "predictions, nn_idxs, nn_dists, stats = ca.get_predictions_knn(\n",
    "    full_dataset.obsm['X_SCimilarity_image_embeds'],\n",
    "    weighting=True,\n",
    ")\n",
    "full_dataset.obs['SCimilarity_image_cell_type'] = predictions.to_numpy()\n",
    "full_dataset.obs['SCimilarity_image_min_dist'] = stats['min_dist'].to_numpy()"
   ]
  },
  {
   "cell_type": "markdown",
   "id": "e2379f93-dbf7-4d91-a692-c5efb2896d39",
   "metadata": {},
   "source": [
    "## Save Dataset"
   ]
  },
  {
   "cell_type": "code",
   "execution_count": 69,
   "id": "e73c87c4-0a5a-4d2d-8ebb-638c482798f7",
   "metadata": {},
   "outputs": [],
   "source": [
    "full_dataset.write_h5ad(f'{out_dir}xenium_ovarian_cancer_full.h5ad')"
   ]
  }
 ],
 "metadata": {
  "kernelspec": {
   "display_name": "scanpy_scimilarity",
   "language": "python",
   "name": "scanpy_scimilarity"
  },
  "language_info": {
   "codemirror_mode": {
    "name": "ipython",
    "version": 3
   },
   "file_extension": ".py",
   "mimetype": "text/x-python",
   "name": "python",
   "nbconvert_exporter": "python",
   "pygments_lexer": "ipython3",
   "version": "3.11.11"
  }
 },
 "nbformat": 4,
 "nbformat_minor": 5
}
