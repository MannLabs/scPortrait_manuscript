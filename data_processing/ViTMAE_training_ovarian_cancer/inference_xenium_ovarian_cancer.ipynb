{
 "cells": [
  {
   "cell_type": "code",
   "execution_count": null,
   "metadata": {},
   "outputs": [],
   "source": [
    "%load_ext autoreload\n",
    "%autoreload 2\n",
    "import sys\n",
    "print(sys.executable)\n",
    "import socket\n",
    "print(socket.gethostname())\n",
    "import os\n",
    "os.chdir(\"/home/icb/alioguz.can/projects/scPortrait4i\")"
   ]
  },
  {
   "cell_type": "code",
   "execution_count": null,
   "metadata": {},
   "outputs": [],
   "source": [
    "import torch\n",
    "import pandas as pd\n",
    "import scanpy as sc\n",
    "import pytorch_lightning as pl\n",
    "\n",
    "from pathlib import Path\n",
    "from torchvision import transforms\n",
    "from models import TransformerModel\n",
    "from scportrait.tools.ml.utils import split_dataset_fractions\n",
    "from scportrait.tools.ml.datasets import H5ScSingleCellDataset\n",
    "from utils import feature_extractor, get_anndata_obj, inference\n",
    "\n",
    "torch.cuda.empty_cache()"
   ]
  },
  {
   "cell_type": "code",
   "execution_count": null,
   "metadata": {},
   "outputs": [],
   "source": [
    "data_path = Path(\"scportrait_manuscript/input_data/Xenium_ovarian_cancer/processed_data/scPortrait_project_xenium/extraction/data/single_cells.h5sc\")\n",
    "device = torch.device(\"cuda\" if torch.cuda.is_available() else \"cpu\")\n",
    "t = transforms.Compose([\n",
    "    transforms.CenterCrop(128),\n",
    "    transforms.Resize(224),\n",
    "    feature_extractor])\n",
    "\n",
    "layer_outputs = {}\n",
    "def get_intermediate(module, input, output):\n",
    "    layer_outputs['encoder_layernorm'] = output\n",
    "    \n",
    "random_indices = False\n",
    "savedir = '/lustre/groups/ml01/workspace/alioguz.can/scportrait4i/training_output' ## UPDATE PATHS\n",
    "class_list = [0]\n",
    "return_id = True\n",
    "if random_indices:\n",
    "    dataset = H5ScSingleCellDataset(dir_list=[data_path], dir_labels=class_list, select_channel=[2,3,4], transform=t, return_id=return_id)\n",
    "    train_dataset, val_dataset, test_dataset = split_dataset_fractions(\n",
    "        [dataset],\n",
    "        fractions=[0.9, 0.05, 0.05],\n",
    "        seed=42)\n",
    "else:\n",
    "    ## init from predefined indices\n",
    "    indices_folder = \"scportrait_manuscript/input_data/Xenium_ovarian_cancer/processed_data/test_val_datasets\"\n",
    "\n",
    "    train_set_indexes = pd.read_csv(f'{indices_folder}/train_set_indexes.csv', header = None)[0].tolist()\n",
    "    train_dataset = H5ScSingleCellDataset(dir_list=[data_path], dir_labels=class_list, select_channel=[2,3,4], transform=t, return_id=return_id, index_list=[train_set_indexes])\n",
    "\n",
    "    test_set_indexes = pd.read_csv(f'{indices_folder}/test_set_indexes.csv', header = None)[0].tolist()\n",
    "    test_dataset = H5ScSingleCellDataset(dir_list=[data_path], dir_labels=class_list, select_channel=[2,3,4], transform=t, return_id=return_id, index_list=[test_set_indexes])\n",
    "\n",
    "    val_set_indexes = pd.read_csv(f'{indices_folder}/val_set_indexes.csv', header = None)[0].tolist()\n",
    "    val_dataset = H5ScSingleCellDataset(dir_list=[data_path], dir_labels=class_list, select_channel=[2,3,4], transform=t, return_id=return_id, index_list=[val_set_indexes])"
   ]
  },
  {
   "cell_type": "code",
   "execution_count": null,
   "metadata": {},
   "outputs": [],
   "source": [
    "# Generate dataloaders\n",
    "# ====================\n",
    "print(\"Generating the dataloaders...\")\n",
    "train_dataloader = torch.utils.data.DataLoader(train_dataset,\n",
    "                                                batch_size=64, # batch size?\n",
    "                                                shuffle=True,\n",
    "                                                num_workers=10, \n",
    "                                                drop_last=False)\n",
    "\n",
    "val_dataloader = torch.utils.data.DataLoader(val_dataset,\n",
    "                                                batch_size=64, \n",
    "                                                shuffle=False,\n",
    "                                                num_workers=10, \n",
    "                                                drop_last=False)\n",
    "\n",
    "test_dataloader = torch.utils.data.DataLoader(test_dataset,\n",
    "                                                batch_size=64, \n",
    "                                                shuffle=False,\n",
    "                                                num_workers=10, \n",
    "                                                drop_last=False)\n",
    "\n",
    "print(\"Dataloaders are initialized.\")"
   ]
  },
  {
   "cell_type": "code",
   "execution_count": null,
   "metadata": {},
   "outputs": [],
   "source": [
    "# Initialize model from path\n",
    "vitMAE_xenium = TransformerModel(finetune=True, in_channels=3)\n",
    "checkpoint = torch.load(\"/lustre/groups/ml01/workspace/alioguz.can/scportrait4i/training_output/Xenium_ovarian_cancer_finetune_epoch=epoch=119-v1.ckpt\") ## UPDATE PATHS\n",
    "vitMAE_xenium.load_state_dict(checkpoint['state_dict'])\n",
    "vitMAE_xenium.model.vit.layernorm.register_forward_hook(get_intermediate)\n",
    "vitMAE_xenium = vitMAE_xenium.to(device)"
   ]
  },
  {
   "cell_type": "markdown",
   "metadata": {},
   "source": [
    "test dataloader"
   ]
  },
  {
   "cell_type": "code",
   "execution_count": null,
   "metadata": {},
   "outputs": [],
   "source": [
    "cls_outputs, pooled_patch_outputs, out_labels, out_cell_ids = inference(model=vitMAE_xenium.model, dataloader=test_dataloader, layer_outputs=layer_outputs, device=device)"
   ]
  },
  {
   "cell_type": "code",
   "execution_count": null,
   "metadata": {},
   "outputs": [],
   "source": [
    "adata = get_anndata_obj(pooled_patch_outputs, out_labels, cell_ids=out_cell_ids, channels=None)\n",
    "sc.pp.scale(adata)\n",
    "sc.pp.neighbors(adata)\n",
    "sc.tl.umap(adata)\n",
    "sc.pl.umap(adata, color='targets', title=\"VIT-MAE Xenium Inference\")#, save=\"_test_vit_data_per_cell.png\")"
   ]
  },
  {
   "cell_type": "code",
   "execution_count": null,
   "metadata": {},
   "outputs": [],
   "source": [
    "sc.tl.leiden(adata, key_added=\"leiden_res0_25\", resolution=0.25)\n",
    "sc.pl.umap(\n",
    "    adata,\n",
    "    color=[\"leiden_res0_25\"],\n",
    "    legend_loc=\"right margin\",\n",
    ")"
   ]
  },
  {
   "cell_type": "code",
   "execution_count": null,
   "metadata": {},
   "outputs": [],
   "source": [
    "adata.write_h5ad(\n",
    "    \"/lustre/groups/ml01/workspace/alioguz.can/scportrait4i/xenium_vitmae_test_features.h5ad\", ## UPDATE PATHS\n",
    ")"
   ]
  },
  {
   "cell_type": "markdown",
   "metadata": {},
   "source": [
    "train dataloader"
   ]
  },
  {
   "cell_type": "code",
   "execution_count": null,
   "metadata": {},
   "outputs": [],
   "source": [
    "cls_outputs, pooled_patch_outputs, out_labels, out_cell_ids = inference(model=vitMAE_xenium.model, dataloader=train_dataloader, layer_outputs=layer_outputs, device=device)"
   ]
  },
  {
   "cell_type": "code",
   "execution_count": null,
   "metadata": {},
   "outputs": [],
   "source": [
    "adata = get_anndata_obj(pooled_patch_outputs, out_labels, cell_ids=out_cell_ids, channels=None)\n",
    "sc.pp.scale(adata)\n",
    "sc.pp.neighbors(adata)\n",
    "sc.tl.umap(adata)\n",
    "sc.pl.umap(adata, color='targets', title=\"VIT-MAE Xenium Inference\")#, save=\"_test_vit_data_per_cell.png\")"
   ]
  },
  {
   "cell_type": "code",
   "execution_count": null,
   "metadata": {},
   "outputs": [],
   "source": [
    "sc.tl.leiden(adata, key_added=\"leiden_res0_25\", resolution=0.25)\n",
    "sc.pl.umap(\n",
    "    adata,\n",
    "    color=[\"leiden_res0_25\"],\n",
    "    legend_loc=\"right margin\",\n",
    ")"
   ]
  },
  {
   "cell_type": "code",
   "execution_count": null,
   "metadata": {},
   "outputs": [],
   "source": [
    "adata.write_h5ad(\n",
    "    \"/lustre/groups/ml01/workspace/alioguz.can/scportrait4i/xenium_vitmae_train_features.h5ad\", ## UPDATE PATHS\n",
    ")"
   ]
  },
  {
   "cell_type": "markdown",
   "metadata": {},
   "source": [
    "val_dataloader"
   ]
  },
  {
   "cell_type": "code",
   "execution_count": null,
   "metadata": {},
   "outputs": [],
   "source": [
    "cls_outputs, pooled_patch_outputs, out_labels, out_cell_ids = inference(model=vitMAE_xenium.model, dataloader=val_dataloader, layer_outputs=layer_outputs, device=device)\n",
    "adata = get_anndata_obj(pooled_patch_outputs, out_labels, cell_ids=out_cell_ids, channels=None)\n",
    "sc.pp.scale(adata)\n",
    "sc.pp.neighbors(adata)\n",
    "sc.tl.umap(adata)\n",
    "sc.pl.umap(adata, color='targets', title=\"VIT-MAE Xenium Inference\")#, save=\"_test_vit_data_per_cell.png\")\n",
    "sc.tl.leiden(adata, key_added=\"leiden_res0_25\", resolution=0.25)\n",
    "sc.pl.umap(\n",
    "    adata,\n",
    "    color=[\"leiden_res0_25\"],\n",
    "    legend_loc=\"right margin\",\n",
    ")\n",
    "adata.write_h5ad(\n",
    "    \"/lustre/groups/ml01/workspace/alioguz.can/scportrait4i/xenium_vitmae_val_features.h5ad\", ## UPDATE PATHS\n",
    ")"
   ]
  },
  {
   "cell_type": "markdown",
   "metadata": {},
   "source": [
    "Reconstruction"
   ]
  },
  {
   "cell_type": "code",
   "execution_count": null,
   "metadata": {},
   "outputs": [],
   "source": [
    "import matplotlib.pyplot as plt"
   ]
  },
  {
   "cell_type": "code",
   "execution_count": null,
   "metadata": {},
   "outputs": [],
   "source": [
    "imgs, labels, ids = next(iter(test_dataloader))\n",
    "recons = vitMAE_xenium(imgs.to(device))\n",
    "recons[\"logits\"].shape"
   ]
  },
  {
   "cell_type": "code",
   "execution_count": null,
   "metadata": {},
   "outputs": [],
   "source": [
    "reconstructed_imgs = vitMAE_xenium.unpatchify(recons[\"logits\"])\n",
    "\n",
    "# Visualize original vs reconstruction\n",
    "idx = 12  # image index\n",
    "fig, axs = plt.subplots(1, 2, figsize=(8, 4))\n",
    "\n",
    "# Original image\n",
    "axs[0].imshow(imgs[idx].permute(1, 2, 0).cpu().numpy(), vmin=0, vmax=0.05)\n",
    "axs[0].set_title(\"Original\")\n",
    "axs[0].axis(\"off\")\n",
    "\n",
    "# Reconstructed image\n",
    "axs[1].imshow(reconstructed_imgs[idx].permute(1, 2, 0).detach().cpu().numpy())\n",
    "axs[1].set_title(\"Reconstruction\")\n",
    "axs[1].axis(\"off\")\n",
    "\n",
    "plt.tight_layout()\n",
    "\n",
    "\n",
    "plt.show()"
   ]
  }
 ],
 "metadata": {
  "kernelspec": {
   "display_name": "Python 3 (ipykernel)",
   "language": "python",
   "name": "python3"
  },
  "language_info": {
   "codemirror_mode": {
    "name": "ipython",
    "version": 3
   },
   "file_extension": ".py",
   "mimetype": "text/x-python",
   "name": "python",
   "nbconvert_exporter": "python",
   "pygments_lexer": "ipython3",
   "version": "3.11.13"
  }
 },
 "nbformat": 4,
 "nbformat_minor": 2
}
