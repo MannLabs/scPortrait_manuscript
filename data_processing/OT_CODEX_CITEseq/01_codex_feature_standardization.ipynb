{
 "cells": [
  {
   "cell_type": "markdown",
   "id": "85559aa0-477e-45d7-bf9a-61fe47cf93ab",
   "metadata": {},
   "source": [
    "This notebook shows the following steps:\n",
    "* Read data\n",
    "* Standardize and save the data "
   ]
  },
  {
   "cell_type": "code",
   "execution_count": 1,
   "id": "6ecf4dc0-7066-4ac9-a13f-6e790ea85f17",
   "metadata": {},
   "outputs": [],
   "source": [
    "import scanpy as sc\n",
    "from sklearn import preprocessing\n",
    "from pathlib import Path"
   ]
  },
  {
   "cell_type": "markdown",
   "id": "429a2f6c-1ec0-41d7-89e9-7c2027d01d30",
   "metadata": {},
   "source": [
    "## CITE seq"
   ]
  },
  {
   "cell_type": "code",
   "execution_count": 2,
   "id": "de7c93ac-6443-46b5-a412-40f6f3fdc8d0",
   "metadata": {},
   "outputs": [],
   "source": [
    "# Read the healthy citeseq dataset \n",
    "path_to_data = Path(\"../../input_data/CODEX_tonsil_healthy_tonsilitis/processed_data\")\n",
    "tonsilitis_codex_cite = sc.read_h5ad(path_to_data / \"cellfeaturization_results_tonsilitis_processed.h5ad\")"
   ]
  },
  {
   "cell_type": "markdown",
   "id": "710d73b7-a459-4885-b785-631b447d1008",
   "metadata": {},
   "source": [
    "Scale the features"
   ]
  },
  {
   "cell_type": "code",
   "execution_count": 3,
   "id": "f7aad251-8ef2-4d52-b244-42aef891dc28",
   "metadata": {},
   "outputs": [
    {
     "data": {
      "text/plain": [
       "array([[-0.19833429,  0.07003807, -0.15343954, ..., -0.14249988,\n",
       "        -0.09922125,  0.790859  ],\n",
       "       [-0.35503605, -0.61790895,  0.13720253, ..., -0.56700057,\n",
       "        -0.8516759 , -0.10697756],\n",
       "       [-0.83229214, -1.4575107 , -0.9057591 , ..., -0.7915901 ,\n",
       "        -1.2518826 , -0.9404921 ],\n",
       "       ...,\n",
       "       [-1.04803   , -1.4431874 , -1.0732057 , ..., -0.89116234,\n",
       "        -1.3545104 , -0.4617932 ],\n",
       "       [-0.78646445, -0.9560645 , -0.6562339 , ..., -0.65310097,\n",
       "        -0.5761328 , -0.3932631 ],\n",
       "       [-0.58257365, -0.02194658, -0.6678434 , ...,  0.04630184,\n",
       "         0.21339326,  0.04333021]], dtype=float32)"
      ]
     },
     "execution_count": 3,
     "metadata": {},
     "output_type": "execute_result"
    }
   ],
   "source": [
    "scaler = preprocessing.StandardScaler()\n",
    "tonsilitis_codex_cite.X = scaler.fit_transform(tonsilitis_codex_cite.X)\n",
    "tonsilitis_codex_cite.X"
   ]
  },
  {
   "cell_type": "code",
   "execution_count": 4,
   "id": "6fdcef23-60d7-411f-baa6-9b8001812b05",
   "metadata": {},
   "outputs": [],
   "source": [
    "tonsilitis_codex_cite.write_h5ad(path_to_data  / \"cellfeaturization_results_tonsilitis_processed_std.h5ad\")"
   ]
  },
  {
   "cell_type": "code",
   "execution_count": null,
   "id": "2aaed250-8fc7-4a24-a68a-75c05c4305de",
   "metadata": {},
   "outputs": [],
   "source": []
  }
 ],
 "metadata": {
  "kernelspec": {
   "display_name": "Python 3 (ipykernel)",
   "language": "python",
   "name": "python3"
  },
  "language_info": {
   "codemirror_mode": {
    "name": "ipython",
    "version": 3
   },
   "file_extension": ".py",
   "mimetype": "text/x-python",
   "name": "python",
   "nbconvert_exporter": "python",
   "pygments_lexer": "ipython3",
   "version": "3.10.16"
  }
 },
 "nbformat": 4,
 "nbformat_minor": 5
}
