{
 "cells": [
  {
   "cell_type": "code",
   "execution_count": 1,
   "id": "d72ac499",
   "metadata": {},
   "outputs": [
    {
     "name": "stderr",
     "output_type": "stream",
     "text": [
      "/Users/sophia/mambaforge/envs/scportrait/lib/python3.11/site-packages/dask/dataframe/__init__.py:31: FutureWarning: The legacy Dask DataFrame implementation is deprecated and will be removed in a future version. Set the configuration option `dataframe.query-planning` to `True` or None to enable the new Dask Dataframe implementation and silence this warning.\n",
      "  warnings.warn(\n",
      "/Users/sophia/mambaforge/envs/scportrait/lib/python3.11/site-packages/xarray_schema/__init__.py:1: UserWarning: pkg_resources is deprecated as an API. See https://setuptools.pypa.io/en/latest/pkg_resources.html. The pkg_resources package is slated for removal as early as 2025-11-30. Refrain from using this package or pin to Setuptools<81.\n",
      "  from pkg_resources import DistributionNotFound, get_distribution\n"
     ]
    }
   ],
   "source": [
    "import anndata as ad\n",
    "import numpy as np\n",
    "import spatialdata\n",
    "import scportrait\n",
    "import pandas as pd"
   ]
  },
  {
   "cell_type": "code",
   "execution_count": null,
   "id": "84ece4d9",
   "metadata": {},
   "outputs": [
    {
     "name": "stderr",
     "output_type": "stream",
     "text": [
      "version mismatch: detected: RasterFormatV02, requested: FormatV04\n"
     ]
    }
   ],
   "source": [
    "# load scPortrait spatial data object\n",
    "sdata_path = \"../../input_data/CODEX_tonsil_healthy_tonsilitis/processed_data/scportrait_project_codex_region1/scportrait.sdata\"\n",
    "sdata = spatialdata.read_zarr(sdata_path)"
   ]
  },
  {
   "cell_type": "code",
   "execution_count": 6,
   "id": "9cbf0792",
   "metadata": {},
   "outputs": [],
   "source": [
    "# define dictionary for simplifying OT assigned cell types\n",
    "cell_types_to_merge = {\n",
    "    \"cycling FDC\": \"FDC\"\n",
    "    }\n",
    "\n",
    "simplified_celltypes = {\n",
    "    \"MBC\": \"Memory/Activated B\",\n",
    "    \"Activated NBC\": \"Memory/Activated B\",\n",
    "    \"NK\": \"NK/ILC\",\n",
    "    \"ILC\": \"NK/ILC\",\n",
    "    \"DC\":\"Dendritic cells\",\n",
    "    \"PDC\":\"Dendritic cells\",\n",
    "    \"epithelial\":\"Stromal\",\n",
    "    \"FDC\":\"Stromal\",\n",
    "}"
   ]
  },
  {
   "cell_type": "code",
   "execution_count": null,
   "id": "6d0f1965",
   "metadata": {},
   "outputs": [
    {
     "name": "stderr",
     "output_type": "stream",
     "text": [
      "/var/folders/35/p4c58_4n3bb0bxnzgns1t7kh0000gn/T/ipykernel_47551/3736292599.py:7: FutureWarning: The behavior of Series.replace (and DataFrame.replace) with CategoricalDtype is deprecated. In a future version, replace will only be used for cases that preserve the categories. To change the categories, use ser.cat.rename_categories instead.\n",
      "  adata_region1_gex.obs[\"cell_type\"] = adata_region1_gex.obs[\"cell_type\"].replace(cell_types_to_merge).cat.remove_unused_categories()\n",
      "/var/folders/35/p4c58_4n3bb0bxnzgns1t7kh0000gn/T/ipykernel_47551/3736292599.py:8: FutureWarning: The behavior of Series.replace (and DataFrame.replace) with CategoricalDtype is deprecated. In a future version, replace will only be used for cases that preserve the categories. To change the categories, use ser.cat.rename_categories instead.\n",
      "  adata_region1_gex.obs[\"simplified_cell_type\"] = adata_region1_gex.obs[\"cell_type\"].replace(simplified_celltypes).cat.remove_unused_categories()\n"
     ]
    }
   ],
   "source": [
    "# load gene expression data and OT cell type annotations\n",
    "adata_region1_gex = ad.read_h5ad(\"generated_files/predicted_ct_tonsilitis_decoded.h5ad\")\n",
    "X = np.where(adata_region1_gex.obsm['X_gexp_log_whole_genome'] < 0, 0, adata_region1_gex.obsm['X_gexp_log_whole_genome']) # due to continous decoder we can get negative values, these are artefacts and should be set to 0\n",
    "adata_region1_gex = ad.AnnData(X = X,\n",
    "                               var = pd.DataFrame(index = adata_region1_gex.uns['var_names_whole_genome']), \n",
    "                               obs = adata_region1_gex.obs)\n",
    "\n",
    "adata_region1_gex.obs[\"cell_type\"] = adata_region1_gex.obs[\"cell_type\"].replace(cell_types_to_merge).cat.remove_unused_categories()\n",
    "adata_region1_gex.obs[\"simplified_cell_type\"] = adata_region1_gex.obs[\"cell_type\"].replace(simplified_celltypes).cat.remove_unused_categories()\n",
    "\n",
    "adata_region1_gex.obs[\"region\"] = \"seg_all_nucleus\"\n",
    "adata_region1_gex.obs[\"region\"] = adata_region1_gex.obs[\"region\"].astype(\"category\")\n",
    "adata_region1_gex.uns = {'spatialdata_attrs': {'instance_key': 'scportrait_cell_id',\n",
    "  'region': ['seg_all_nucleus'],\n",
    "  'region_key': 'region'}}\n",
    "\n",
    "# add annotating table to scportrait spatial data object and save to disk\n",
    "scportrait.tl.sdata.add_element_sdata(sdata, adata_region1_gex, \"complete_gene_expression\") "
   ]
  }
 ],
 "metadata": {
  "kernelspec": {
   "display_name": "scportrait",
   "language": "python",
   "name": "python3"
  },
  "language_info": {
   "codemirror_mode": {
    "name": "ipython",
    "version": 3
   },
   "file_extension": ".py",
   "mimetype": "text/x-python",
   "name": "python",
   "nbconvert_exporter": "python",
   "pygments_lexer": "ipython3",
   "version": "3.11.0"
  }
 },
 "nbformat": 4,
 "nbformat_minor": 5
}
